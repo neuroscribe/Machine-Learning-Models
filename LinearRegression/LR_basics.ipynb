{
  "nbformat": 4,
  "nbformat_minor": 0,
  "metadata": {
    "colab": {
      "provenance": []
    },
    "kernelspec": {
      "name": "python3",
      "display_name": "Python 3"
    },
    "language_info": {
      "name": "python"
    }
  },
  "cells": [
    {
      "cell_type": "code",
      "execution_count": 1,
      "metadata": {
        "id": "9Kb8rd4XQu9A"
      },
      "outputs": [],
      "source": [
        "import numpy as np  # For numerical operations\n",
        "import pandas as pd # For data processing\n",
        "import matplotlib.pyplot as plt  # For plotting graphs"
      ]
    },
    {
      "cell_type": "code",
      "source": [
        "X = np.arange(10)\n",
        "print(X)"
      ],
      "metadata": {
        "colab": {
          "base_uri": "https://localhost:8080/"
        },
        "id": "Ln6J2aF4Qzf2",
        "outputId": "0fc44cb1-d913-411e-d2fb-39d08a8a75e0"
      },
      "execution_count": 2,
      "outputs": [
        {
          "output_type": "stream",
          "name": "stdout",
          "text": [
            "[0 1 2 3 4 5 6 7 8 9]\n"
          ]
        }
      ]
    },
    {
      "cell_type": "code",
      "source": [
        "Y = (X-5)*2\n",
        "print(Y)"
      ],
      "metadata": {
        "colab": {
          "base_uri": "https://localhost:8080/"
        },
        "id": "4UFcMpIwQ3t_",
        "outputId": "b25cc3df-54ba-4585-bf10-d371866fb20a"
      },
      "execution_count": 3,
      "outputs": [
        {
          "output_type": "stream",
          "name": "stdout",
          "text": [
            "[-10  -8  -6  -4  -2   0   2   4   6   8]\n"
          ]
        }
      ]
    },
    {
      "cell_type": "code",
      "source": [
        "plt.plot(X, Y)\n",
        "plt.grid(True)\n",
        "plt.show()"
      ],
      "metadata": {
        "colab": {
          "base_uri": "https://localhost:8080/",
          "height": 430
        },
        "id": "ynndDd6tQ7rX",
        "outputId": "b1842f9b-845e-4110-9235-44d3e9cd569e"
      },
      "execution_count": 4,
      "outputs": [
        {
          "output_type": "display_data",
          "data": {
            "text/plain": [
              "<Figure size 640x480 with 1 Axes>"
            ],
            "image/png": "[encoded data removed]"
          },
          "metadata": {}
        }
      ]
    },
    {
      "cell_type": "code",
      "source": [
        "def cost(m, c, X, Y):\n",
        "    n = len(X)\n",
        "    cost = 0\n",
        "    for i in range(n):\n",
        "        cost += (Y[i] - (m*X[i] + c))**2\n",
        "    return cost/n"
      ],
      "metadata": {
        "id": "n1rxNp9GRAgM"
      },
      "execution_count": 5,
      "outputs": []
    },
    {
      "cell_type": "code",
      "source": [
        "def gradients(m, c, X, Y):\n",
        "    n = len(X)\n",
        "    dm = 0\n",
        "    dc = 0\n",
        "    for i in range(n):\n",
        "        dm += -2*X[i]*(Y[i] - (m*X[i] + c))\n",
        "        dc += -2*(Y[i] - (m*X[i] + c))\n",
        "    return dm/n, dc/n"
      ],
      "metadata": {
        "id": "8OCCjIv5RQMD"
      },
      "execution_count": 6,
      "outputs": []
    },
    {
      "cell_type": "code",
      "source": [
        "def gradient_descent(m, c, X, Y, lr, epochs):\n",
        "    cost_list = []\n",
        "    for i in range(epochs):\n",
        "        dm, dc = gradients(m, c, X, Y)\n",
        "        m = m - lr*dm\n",
        "        c = c - lr*dc\n",
        "        cost_val = cost(m, c, X, Y)\n",
        "        cost_list.append(cost_val)\n",
        "        if i%10 == 0:\n",
        "            print(f'Epoch {i}, Cost: {cost_val}')\n",
        "    return m, c, cost_list"
      ],
      "metadata": {
        "id": "NpqqlyXfRlxP"
      },
      "execution_count": 7,
      "outputs": []
    },
    {
      "cell_type": "code",
      "source": [
        "m = 0\n",
        "c = 0\n",
        "lr = 0.001\n",
        "epochs = 1000\n",
        "m, c, cost_list = gradient_descent(m, c, X, Y, lr, epochs)"
      ],
      "metadata": {
        "colab": {
          "base_uri": "https://localhost:8080/"
        },
        "id": "xP2i5NseRqZz",
        "outputId": "41c4446e-d0c6-4db7-b374-b9987d5f7c0d"
      },
      "execution_count": 8,
      "outputs": [
        {
          "output_type": "stream",
          "name": "stdout",
          "text": [
            "Epoch 0, Cost: 33.435987999999995\n",
            "Epoch 10, Cost: 30.20268603629483\n",
            "Epoch 20, Cost: 29.00631342826938\n",
            "Epoch 30, Cost: 28.42340028573512\n",
            "Epoch 40, Cost: 28.02699269706818\n",
            "Epoch 50, Cost: 27.68901089688107\n",
            "Epoch 60, Cost: 27.37101339733938\n",
            "Epoch 70, Cost: 27.0614432247694\n",
            "Epoch 80, Cost: 26.756806885964643\n",
            "Epoch 90, Cost: 26.45602958383022\n",
            "Epoch 100, Cost: 26.158762237274175\n",
            "Epoch 110, Cost: 25.86487372132093\n",
            "Epoch 120, Cost: 25.57429857702818\n",
            "Epoch 130, Cost: 25.286991333500314\n",
            "Epoch 140, Cost: 25.00291280490583\n",
            "Epoch 150, Cost: 24.722025977435006\n",
            "Epoch 160, Cost: 24.444294772496928\n",
            "Epoch 170, Cost: 24.169683672591113\n",
            "Epoch 180, Cost: 23.898157605946942\n",
            "Epoch 190, Cost: 23.629681908808056\n",
            "Epoch 200, Cost: 23.364222311038834\n",
            "Epoch 210, Cost: 23.1017449287602\n",
            "Epoch 220, Cost: 22.842216259128012\n",
            "Epoch 230, Cost: 22.58560317578775\n",
            "Epoch 240, Cost: 22.33187292456566\n",
            "Epoch 250, Cost: 22.08099311926372\n",
            "Epoch 260, Cost: 21.8329317375187\n",
            "Epoch 270, Cost: 21.58765711671258\n",
            "Epoch 280, Cost: 21.3451379499305\n",
            "Epoch 290, Cost: 21.105343281964522\n",
            "Epoch 300, Cost: 20.868242505362467\n",
            "Epoch 310, Cost: 20.63380535652113\n",
            "Epoch 320, Cost: 20.402001911823437\n",
            "Epoch 330, Cost: 20.172802583818967\n",
            "Epoch 340, Cost: 19.946178117447424\n",
            "Epoch 350, Cost: 19.722099586304502\n",
            "Epoch 360, Cost: 19.500538388949717\n",
            "Epoch 370, Cost: 19.281466245255707\n",
            "Epoch 380, Cost: 19.06485519279852\n",
            "Epoch 390, Cost: 18.850677583288565\n",
            "Epoch 400, Cost: 18.63890607904148\n",
            "Epoch 410, Cost: 18.429513649488822\n",
            "Epoch 420, Cost: 18.222473567727818\n",
            "Epoch 430, Cost: 18.017759407109985\n",
            "Epoch 440, Cost: 17.81534503786799\n",
            "Epoch 450, Cost: 17.615204623780453\n",
            "Epoch 460, Cost: 17.417312618874206\n",
            "Epoch 470, Cost: 17.221643764163616\n",
            "Epoch 480, Cost: 17.02817308442649\n",
            "Epoch 490, Cost: 16.836875885016244\n",
            "Epoch 500, Cost: 16.647727748709872\n",
            "Epoch 510, Cost: 16.460704532591343\n",
            "Epoch 520, Cost: 16.275782364969956\n",
            "Epoch 530, Cost: 16.092937642333382\n",
            "Epoch 540, Cost: 15.91214702633491\n",
            "Epoch 550, Cost: 15.733387440814488\n",
            "Epoch 560, Cost: 15.556636068853345\n",
            "Epoch 570, Cost: 15.381870349861575\n",
            "Epoch 580, Cost: 15.209067976698524\n",
            "Epoch 590, Cost: 15.0382068928255\n",
            "Epoch 600, Cost: 14.869265289490468\n",
            "Epoch 610, Cost: 14.702221602944373\n",
            "Epoch 620, Cost: 14.53705451168874\n",
            "Epoch 630, Cost: 14.373742933754205\n",
            "Epoch 640, Cost: 14.212266024009569\n",
            "Epoch 650, Cost: 14.052603171501161\n",
            "Epoch 660, Cost: 13.894733996822035\n",
            "Epoch 670, Cost: 13.738638349510737\n",
            "Epoch 680, Cost: 13.584296305479288\n",
            "Epoch 690, Cost: 13.431688164470085\n",
            "Epoch 700, Cost: 13.280794447541354\n",
            "Epoch 710, Cost: 13.131595894580832\n",
            "Epoch 720, Cost: 12.984073461847407\n",
            "Epoch 730, Cost: 12.838208319540396\n",
            "Epoch 740, Cost: 12.693981849396065\n",
            "Epoch 750, Cost: 12.551375642311243\n",
            "Epoch 760, Cost: 12.410371495993507\n",
            "Epoch 770, Cost: 12.27095141263791\n",
            "Epoch 780, Cost: 12.133097596629671\n",
            "Epoch 790, Cost: 11.99679245227281\n",
            "Epoch 800, Cost: 11.862018581544145\n",
            "Epoch 810, Cost: 11.728758781872683\n",
            "Epoch 820, Cost: 11.59699604394382\n",
            "Epoch 830, Cost: 11.466713549528308\n",
            "Epoch 840, Cost: 11.337894669335551\n",
            "Epoch 850, Cost: 11.210522960891037\n",
            "Epoch 860, Cost: 11.084582166437631\n",
            "Epoch 870, Cost: 10.960056210860426\n",
            "Epoch 880, Cost: 10.836929199634891\n",
            "Epoch 890, Cost: 10.715185416798127\n",
            "Epoch 900, Cost: 10.59480932294284\n",
            "Epoch 910, Cost: 10.475785553233907\n",
            "Epoch 920, Cost: 10.358098915447219\n",
            "Epoch 930, Cost: 10.241734388030501\n",
            "Epoch 940, Cost: 10.126677118185993\n",
            "Epoch 950, Cost: 10.012912419974622\n",
            "Epoch 960, Cost: 9.90042577244148\n",
            "Epoch 970, Cost: 9.789202817762371\n",
            "Epoch 980, Cost: 9.679229359411188\n",
            "Epoch 990, Cost: 9.570491360347848\n"
          ]
        }
      ]
    },
    {
      "cell_type": "code",
      "source": [
        "Y_pred = m*X + c"
      ],
      "metadata": {
        "id": "Zh4CTAGyRwZe"
      },
      "execution_count": 9,
      "outputs": []
    },
    {
      "cell_type": "code",
      "source": [
        "plt.scatter(X, Y)\n",
        "plt.plot(X, Y_pred, color='red')\n",
        "plt.grid(True)\n",
        "plt.show()"
      ],
      "metadata": {
        "colab": {
          "base_uri": "https://localhost:8080/",
          "height": 430
        },
        "id": "c2hO-FwIR5s2",
        "outputId": "a3792096-7293-4dd5-c8b3-94ba410530b3"
      },
      "execution_count": 10,
      "outputs": [
        {
          "output_type": "display_data",
          "data": {
            "text/plain": [
              "<Figure size 640x480 with 1 Axes>"
            ],
            "image/png": "[encoded data removed]"
          },
          "metadata": {}
        }
      ]
    },
    {
      "cell_type": "code",
      "source": [
        "print(m)"
      ],
      "metadata": {
        "colab": {
          "base_uri": "https://localhost:8080/"
        },
        "id": "W3SNh_B2R-R1",
        "outputId": "c13aa23c-a844-423c-d415-e19673a652c2"
      },
      "execution_count": 29,
      "outputs": [
        {
          "output_type": "stream",
          "name": "stdout",
          "text": [
            "1.0877935339691513\n"
          ]
        }
      ]
    },
    {
      "cell_type": "code",
      "source": [
        "print(c)"
      ],
      "metadata": {
        "colab": {
          "base_uri": "https://localhost:8080/"
        },
        "id": "oZ9jK-utUS2z",
        "outputId": "f38a2b13-13e0-4d64-b076-09a61ca796af"
      },
      "execution_count": 30,
      "outputs": [
        {
          "output_type": "stream",
          "name": "stdout",
          "text": [
            "-4.279931047660435\n"
          ]
        }
      ]
    },
    {
      "cell_type": "code",
      "source": [],
      "metadata": {
        "id": "3iMa2O6VUXJp"
      },
      "execution_count": null,
      "outputs": []
    }
  ]
}