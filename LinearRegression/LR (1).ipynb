{
  "nbformat": 4,
  "nbformat_minor": 0,
  "metadata": {
    "colab": {
      "provenance": []
    },
    "kernelspec": {
      "name": "python3",
      "display_name": "Python 3"
    },
    "language_info": {
      "name": "python"
    }
  },
  "cells": [
    {
      "cell_type": "code",
      "execution_count": 1,
      "metadata": {
        "colab": {
          "base_uri": "https://localhost:8080/"
        },
        "id": "bsOmAzn0pux_",
        "outputId": "0158b958-e76e-49ef-8094-5d539bedffea"
      },
      "outputs": [
        {
          "output_type": "stream",
          "name": "stdout",
          "text": [
            "   X         Y\n",
            "0  1  3.888889\n",
            "1  2  4.555556\n",
            "2  3  5.222222\n",
            "3  4  5.888889\n",
            "4  5  6.555556\n"
          ]
        }
      ],
      "source": [
        "import pandas as pd\n",
        "import numpy as np\n",
        "# Load CSV file\n",
        "data = pd.read_csv('/content/Linear Regression - Sheet1.csv')\n",
        "\n",
        "# Display the first few rows\n",
        "print(data.head())"
      ]
    },
    {
      "cell_type": "code",
      "source": [
        "data = data[data['X'] < 250]"
      ],
      "metadata": {
        "id": "aMMwM5b0sFKd"
      },
      "execution_count": 16,
      "outputs": []
    },
    {
      "cell_type": "code",
      "source": [
        "X = data['X'].values\n",
        "Y = data['Y'].values"
      ],
      "metadata": {
        "id": "_MSoLBDbqIWe"
      },
      "execution_count": 17,
      "outputs": []
    },
    {
      "cell_type": "code",
      "source": [
        "X = (X - np.mean(X)) / np.std(X)\n",
        "Y = (Y - np.mean(Y)) / np.std(Y)"
      ],
      "metadata": {
        "id": "3PrQo-yat3cA"
      },
      "execution_count": 18,
      "outputs": []
    },
    {
      "cell_type": "code",
      "source": [
        "import matplotlib.pyplot as plt\n",
        "plt.scatter(X, Y)"
      ],
      "metadata": {
        "colab": {
          "base_uri": "https://localhost:8080/",
          "height": 447
        },
        "id": "ekDd_UTiqm4N",
        "outputId": "93c0ce05-f4ca-47d9-bee0-5ea3ce03048e"
      },
      "execution_count": 19,
      "outputs": [
        {
          "output_type": "execute_result",
          "data": {
            "text/plain": [
              "<matplotlib.collections.PathCollection at 0x78f4e7c0f850>"
            ]
          },
          "metadata": {},
          "execution_count": 19
        },
        {
          "output_type": "display_data",
          "data": {
            "text/plain": [
              "<Figure size 640x480 with 1 Axes>"
            ],
            "image/png": "[encoded data removed]"
          },
          "metadata": {}
        }
      ]
    },
    {
      "cell_type": "code",
      "source": [
        "def gradient_descent(X, Y, lr=0.01, epochs=1000):\n",
        "    m = 0\n",
        "    c = 0\n",
        "    for i in range(epochs):\n",
        "        dm, dc = gradients(m, c, X, Y)\n",
        "        m -= lr * dm\n",
        "        c -= lr * dc\n",
        "        if i % 100 == 0:\n",
        "            print(f'Epoch {i}, Cost: {cost_function(m, c, X, Y)}')\n",
        "    return m, c"
      ],
      "metadata": {
        "id": "mu3ZDA0zq04c"
      },
      "execution_count": 12,
      "outputs": []
    },
    {
      "cell_type": "code",
      "source": [
        "def gradients(m, c, X, Y):\n",
        "    n = len(X)\n",
        "    dm = 0\n",
        "    dc = 0\n",
        "    for i in range(n):\n",
        "        dm += -2 * X[i] * (Y[i] - (m*X[i] + c))\n",
        "        dc += -2 * (Y[i] - (m*X[i] + c))\n",
        "    dm /= n\n",
        "    dc /= n\n",
        "    return dm, dc"
      ],
      "metadata": {
        "id": "J_frhNkLrU1G"
      },
      "execution_count": 13,
      "outputs": []
    },
    {
      "cell_type": "code",
      "source": [
        "def cost_function(m, c, X, Y):\n",
        "    n = len(X)\n",
        "    cost = 0\n",
        "    for i in range(n):\n",
        "        cost += (Y[i] - (m*X[i] + c))**2\n",
        "    return cost/n"
      ],
      "metadata": {
        "id": "aopD3VwJrXqp"
      },
      "execution_count": 14,
      "outputs": []
    },
    {
      "cell_type": "code",
      "source": [
        "m, c = gradient_descent(X, Y, lr=0.01, epochs=1000)\n",
        "print(f\"Final values — m: {m}, c: {c}\")"
      ],
      "metadata": {
        "colab": {
          "base_uri": "https://localhost:8080/"
        },
        "id": "MV3zi1v5rbN6",
        "outputId": "dfc30768-54de-4eab-e2ca-0793c7cb6592"
      },
      "execution_count": 20,
      "outputs": [
        {
          "output_type": "stream",
          "name": "stdout",
          "text": [
            "Epoch 0, Cost: 0.9604000000000001\n",
            "Epoch 100, Cost: 0.016891463920134978\n",
            "Epoch 200, Cost: 0.0002970861655197976\n",
            "Epoch 300, Cost: 5.225135616462295e-06\n",
            "Epoch 400, Cost: 9.189940623016374e-08\n",
            "Epoch 500, Cost: 1.6163218499970859e-09\n",
            "Epoch 600, Cost: 2.842778253146952e-11\n",
            "Epoch 700, Cost: 4.999864596283523e-13\n",
            "Epoch 800, Cost: 8.793873474943078e-15\n",
            "Epoch 900, Cost: 1.5480452598068362e-16\n",
            "Final values — m: 0.9999999983170328, c: 5.504381045291783e-17\n"
          ]
        }
      ]
    },
    {
      "cell_type": "code",
      "source": [
        "predicted_Y = m*X + c"
      ],
      "metadata": {
        "id": "m2R-Pty9ssCA"
      },
      "execution_count": 21,
      "outputs": []
    },
    {
      "cell_type": "code",
      "source": [
        "import matplotlib.pyplot as plt\n",
        "\n",
        "# Scatter plot\n",
        "plt.scatter(X, Y)\n",
        "\n",
        "# Plot the regression line\n",
        "predicted_Y = m*X + c\n",
        "plt.plot(X, predicted_Y, color='red')\n",
        "\n",
        "plt.show()"
      ],
      "metadata": {
        "colab": {
          "base_uri": "https://localhost:8080/",
          "height": 430
        },
        "id": "DB63Q8FnulWK",
        "outputId": "9a58c06a-390a-4283-cd09-1a520a837c8b"
      },
      "execution_count": 22,
      "outputs": [
        {
          "output_type": "display_data",
          "data": {
            "text/plain": [
              "<Figure size 640x480 with 1 Axes>"
            ],
            "image/png": "[encoded data removed]"
          },
          "metadata": {}
        }
      ]
    },
    {
      "cell_type": "code",
      "source": [],
      "metadata": {
        "id": "dEj4PGjeuqop"
      },
      "execution_count": null,
      "outputs": []
    }
  ]
}